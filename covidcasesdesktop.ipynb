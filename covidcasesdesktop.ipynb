{
 "cells": [
  {
   "cell_type": "code",
   "execution_count": 8,
   "metadata": {},
   "outputs": [
    {
     "data": {
      "text/plain": [
       "True"
      ]
     },
     "execution_count": 8,
     "metadata": {},
     "output_type": "execute_result"
    }
   ],
   "source": [
    "from urllib.request import urlopen, Request\n",
    "from bs4 import BeautifulSoup as soup\n",
    "from win10toast import ToastNotifier\n",
    "\n",
    "header = {\"User-Agent\": \"Chrome\"}\n",
    "req = Request(\"https://www.worldometers.info/coronavirus/country/india/\", headers=header)\n",
    "html = urlopen(req)\n",
    "\n",
    "obj = soup(html)\n",
    "newCases = obj.find(\"li\", {\"class\": \"news_li\"}).strong.text.split()[0]\n",
    "deaths = list(obj.find(\"li\", {\"class\": \"news_li\"}).strong.next_siblings)[1].text.split()[0]\n",
    "\n",
    "notifier = ToastNotifier()\n",
    "message = \"New Cases - \" + newCases + \"\\nNew Deaths - \" + deaths\n",
    "message\n",
    "notifier.show_toast(title=\"COVID-19 Daily Update\", msg=message, duration=5,icon_path=r\"covvirus.ico\")\n",
    "\n"
   ]
  },
  {
   "cell_type": "code",
   "execution_count": null,
   "metadata": {},
   "outputs": [],
   "source": []
  },
  {
   "cell_type": "code",
   "execution_count": null,
   "metadata": {},
   "outputs": [],
   "source": []
  }
 ],
 "metadata": {
  "kernelspec": {
   "display_name": "Python 3",
   "language": "python",
   "name": "python3"
  },
  "language_info": {
   "codemirror_mode": {
    "name": "ipython",
    "version": 3
   },
   "file_extension": ".py",
   "mimetype": "text/x-python",
   "name": "python",
   "nbconvert_exporter": "python",
   "pygments_lexer": "ipython3",
   "version": "3.8.5"
  }
 },
 "nbformat": 4,
 "nbformat_minor": 4
}
